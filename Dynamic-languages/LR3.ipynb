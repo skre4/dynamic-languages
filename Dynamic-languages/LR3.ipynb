{
 "cells": [
  {
   "cell_type": "markdown",
   "id": "6ba5c75c-1428-4dfa-853c-410c2e6ed516",
   "metadata": {},
   "source": [
    "## Лабораторная работа №3"
   ]
  },
  {
   "cell_type": "markdown",
   "id": "8a77efe3-521d-4a2a-a54d-c038c45ea3b8",
   "metadata": {},
   "source": [
    "### Задание: Провести классификацию найденного датасета, методами линеной и логистической регрессий . "
   ]
  },
  {
   "cell_type": "code",
   "execution_count": 4,
   "id": "759a6016-6027-4ea8-a567-28afbd0e0002",
   "metadata": {},
   "outputs": [
    {
     "name": "stdout",
     "output_type": "stream",
     "text": [
      "Точность логистической регрессии: 0.8100558659217877\n",
      "\n",
      "Confusion Матрица логистической регрессии:\n",
      " [[90 15]\n",
      " [19 55]]\n",
      "\n",
      "Classification Отчет логистической регрессии:\n",
      "               precision    recall  f1-score   support\n",
      "\n",
      "           0       0.83      0.86      0.84       105\n",
      "           1       0.79      0.74      0.76        74\n",
      "\n",
      "    accuracy                           0.81       179\n",
      "   macro avg       0.81      0.80      0.80       179\n",
      "weighted avg       0.81      0.81      0.81       179\n",
      "\n",
      "Точность линейной регрессии: 0.7932960893854749\n",
      "\n",
      "Confusion Матрица линейной регрессии:\n",
      " [[89 16]\n",
      " [21 53]]\n",
      "\n",
      "Classification Отчет линейной регрессии:\n",
      "               precision    recall  f1-score   support\n",
      "\n",
      "           0       0.81      0.85      0.83       105\n",
      "           1       0.77      0.72      0.74        74\n",
      "\n",
      "    accuracy                           0.79       179\n",
      "   macro avg       0.79      0.78      0.78       179\n",
      "weighted avg       0.79      0.79      0.79       179\n",
      "\n"
     ]
    }
   ],
   "source": [
    "import pandas as pd\n",
    "from sklearn.model_selection import train_test_split\n",
    "from sklearn.linear_model import LogisticRegression, LinearRegression\n",
    "from sklearn.metrics import accuracy_score, confusion_matrix, classification_report\n",
    "import numpy as np\n",
    "\n",
    "# Загрузка датасета\n",
    "dataset_train = pd.read_csv(\"train.csv\")\n",
    "\n",
    "# Предварительная обработка данных\n",
    "dataset_train['Age'].fillna(dataset_train['Age'].median(), inplace=True)\n",
    "dataset_train['Embarked'].fillna(dataset_train['Embarked'].mode()[0], inplace=True)\n",
    "dataset_train['Fare'].fillna(dataset_train['Fare'].median(), inplace=True)\n",
    "\n",
    "# Преобразование категориальных переменных в числовые\n",
    "dataset_train = pd.get_dummies(dataset_train, columns=['Sex', 'Embarked'], drop_first=True)\n",
    "\n",
    "# Выбор признаков и целевой переменной\n",
    "X = dataset_train[['Pclass', 'Age', 'SibSp', 'Parch', 'Fare', 'Sex_male', 'Embarked_Q', 'Embarked_S']]\n",
    "y = dataset_train['Survived']\n",
    "\n",
    "# Разделение данных на обучающую и тестовую выборки\n",
    "X_train, X_test, y_train, y_test = train_test_split(X, y, test_size=0.2, random_state=42)\n",
    "\n",
    "# Обучение модели логистической регрессии\n",
    "logistic_model = LogisticRegression(max_iter=200)\n",
    "logistic_model.fit(X_train, y_train)\n",
    "logistic_pred = logistic_model.predict(X_test)\n",
    "\n",
    "# Оценка производительности модели логистической регрессии\n",
    "logistic_accuracy = accuracy_score(y_test, logistic_pred)\n",
    "print(\"Точность логистической регрессии:\", logistic_accuracy)\n",
    "print(\"\\nConfusion Матрица логистической регрессии:\\n\", confusion_matrix(y_test, logistic_pred))\n",
    "print(\"\\nClassification Отчет логистической регрессии:\\n\", classification_report(y_test, logistic_pred))\n",
    "\n",
    "# Обучение модели линейной регрессии\n",
    "linear_model = LinearRegression()\n",
    "linear_model.fit(X_train, y_train)\n",
    "linear_pred = linear_model.predict(X_test)\n",
    "\n",
    "# Преобразование предсказаний линейной регрессии в бинарные классы\n",
    "linear_pred_binary = np.where(linear_pred >= 0.5, 1, 0)\n",
    "\n",
    "# Оценка производительности модели линейной регрессии\n",
    "linear_accuracy = accuracy_score(y_test, linear_pred_binary)\n",
    "print(\"Точность линейной регрессии:\", linear_accuracy)\n",
    "print(\"\\nConfusion Матрица линейной регрессии:\\n\", confusion_matrix(y_test, linear_pred_binary))\n",
    "print(\"\\nClassification Отчет линейной регрессии:\\n\", classification_report(y_test, linear_pred_binary))\n"
   ]
  },
  {
   "cell_type": "code",
   "execution_count": null,
   "id": "4278acfe-2326-4592-8222-e66b49f0e06c",
   "metadata": {},
   "outputs": [],
   "source": []
  }
 ],
 "metadata": {
  "kernelspec": {
   "display_name": "Python 3 (ipykernel)",
   "language": "python",
   "name": "python3"
  },
  "language_info": {
   "codemirror_mode": {
    "name": "ipython",
    "version": 3
   },
   "file_extension": ".py",
   "mimetype": "text/x-python",
   "name": "python",
   "nbconvert_exporter": "python",
   "pygments_lexer": "ipython3",
   "version": "3.11.7"
  }
 },
 "nbformat": 4,
 "nbformat_minor": 5
}
