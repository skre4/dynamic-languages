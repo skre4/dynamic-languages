{
 "cells": [
  {
   "cell_type": "markdown",
   "id": "06dcf2ed-f3b6-4758-95b2-897264bf58cb",
   "metadata": {},
   "source": [
    "## Лабораторная работа №5"
   ]
  },
  {
   "cell_type": "markdown",
   "id": "6fab85bb-0896-418f-8c53-a6bc08dab7ce",
   "metadata": {},
   "source": [
    "### Задание: Провести классификацию найденного датасета, методами решающего дерева и случайного леса. "
   ]
  },
  {
   "cell_type": "code",
   "execution_count": 1,
   "id": "787d064f-9a7a-4ddf-83f8-52e5d656f0c9",
   "metadata": {},
   "outputs": [
    {
     "name": "stdout",
     "output_type": "stream",
     "text": [
      "Точность решающего дерева: 0.7821229050279329\n",
      "\n",
      "Confusion Матрица решающего дерева:\n",
      " [[84 21]\n",
      " [18 56]]\n",
      "\n",
      "Classification Отчет решающего дерева:\n",
      "               precision    recall  f1-score   support\n",
      "\n",
      "           0       0.82      0.80      0.81       105\n",
      "           1       0.73      0.76      0.74        74\n",
      "\n",
      "    accuracy                           0.78       179\n",
      "   macro avg       0.78      0.78      0.78       179\n",
      "weighted avg       0.78      0.78      0.78       179\n",
      "\n",
      "Точность случайного леса: 0.8212290502793296\n",
      "\n",
      "Confusion Матрица случайного леса:\n",
      " [[91 14]\n",
      " [18 56]]\n",
      "\n",
      "Classification Отчет случайного леса:\n",
      "               precision    recall  f1-score   support\n",
      "\n",
      "           0       0.83      0.87      0.85       105\n",
      "           1       0.80      0.76      0.78        74\n",
      "\n",
      "    accuracy                           0.82       179\n",
      "   macro avg       0.82      0.81      0.81       179\n",
      "weighted avg       0.82      0.82      0.82       179\n",
      "\n",
      "Лучшие параметры для решающего дерева: {'max_depth': 10, 'min_samples_split': 20}\n",
      "Лучший результат кросс-валидации для решающего дерева: 0.8047572146163695\n",
      "Лучшие параметры для случайного леса: {'max_depth': None, 'min_samples_split': 20, 'n_estimators': 100}\n",
      "Лучший результат кросс-валидации для случайного леса: 0.8342558849601105\n",
      "Точность решающего дерева с оптимальными параметрами: 0.8379888268156425\n",
      "\n",
      "Confusion Матрица решающего дерева с оптимальными параметрами:\n",
      " [[97  8]\n",
      " [21 53]]\n",
      "\n",
      "Classification Отчет решающего дерева с оптимальными параметрами:\n",
      "               precision    recall  f1-score   support\n",
      "\n",
      "           0       0.82      0.92      0.87       105\n",
      "           1       0.87      0.72      0.79        74\n",
      "\n",
      "    accuracy                           0.84       179\n",
      "   macro avg       0.85      0.82      0.83       179\n",
      "weighted avg       0.84      0.84      0.83       179\n",
      "\n",
      "Точность случайного леса с оптимальными параметрами: 0.8100558659217877\n",
      "\n",
      "Confusion Матрица случайного леса с оптимальными параметрами:\n",
      " [[94 11]\n",
      " [23 51]]\n",
      "\n",
      "Classification Отчет случайного леса с оптимальными параметрами:\n",
      "               precision    recall  f1-score   support\n",
      "\n",
      "           0       0.80      0.90      0.85       105\n",
      "           1       0.82      0.69      0.75        74\n",
      "\n",
      "    accuracy                           0.81       179\n",
      "   macro avg       0.81      0.79      0.80       179\n",
      "weighted avg       0.81      0.81      0.81       179\n",
      "\n"
     ]
    }
   ],
   "source": [
    "import pandas as pd\n",
    "from sklearn.model_selection import train_test_split, GridSearchCV\n",
    "from sklearn.tree import DecisionTreeClassifier\n",
    "from sklearn.ensemble import RandomForestClassifier\n",
    "from sklearn.metrics import accuracy_score, confusion_matrix, classification_report\n",
    "\n",
    "# Загрузка датасета\n",
    "dataset_train = pd.read_csv(\"train.csv\")\n",
    "\n",
    "# Предварительная обработка данных\n",
    "dataset_train['Age'].fillna(dataset_train['Age'].median(), inplace=True)\n",
    "dataset_train['Embarked'].fillna(dataset_train['Embarked'].mode()[0], inplace=True)\n",
    "dataset_train['Fare'].fillna(dataset_train['Fare'].median(), inplace=True)\n",
    "\n",
    "# Преобразование категориальных переменных в числовые\n",
    "dataset_train = pd.get_dummies(dataset_train, columns=['Sex', 'Embarked'], drop_first=True)\n",
    "\n",
    "# Выбор признаков и целевой переменной\n",
    "X = dataset_train[['Pclass', 'Age', 'SibSp', 'Parch', 'Fare', 'Sex_male', 'Embarked_Q', 'Embarked_S']]\n",
    "y = dataset_train['Survived']\n",
    "\n",
    "# Разделение данных на обучающую и тестовую выборки\n",
    "X_train, X_test, y_train, y_test = train_test_split(X, y, test_size=0.2, random_state=42)\n",
    "\n",
    "# Обучение и оценка модели решающего дерева\n",
    "tree_model = DecisionTreeClassifier(random_state=42)\n",
    "tree_model.fit(X_train, y_train)\n",
    "tree_pred = tree_model.predict(X_test)\n",
    "\n",
    "tree_accuracy = accuracy_score(y_test, tree_pred)\n",
    "print(\"Точность решающего дерева:\", tree_accuracy)\n",
    "print(\"\\nConfusion Матрица решающего дерева:\\n\", confusion_matrix(y_test, tree_pred))\n",
    "print(\"\\nClassification Отчет решающего дерева:\\n\", classification_report(y_test, tree_pred))\n",
    "\n",
    "# Обучение и оценка модели случайного леса\n",
    "forest_model = RandomForestClassifier(random_state=42, n_estimators=100)\n",
    "forest_model.fit(X_train, y_train)\n",
    "forest_pred = forest_model.predict(X_test)\n",
    "\n",
    "forest_accuracy = accuracy_score(y_test, forest_pred)\n",
    "print(\"Точность случайного леса:\", forest_accuracy)\n",
    "print(\"\\nConfusion Матрица случайного леса:\\n\", confusion_matrix(y_test, forest_pred))\n",
    "print(\"\\nClassification Отчет случайного леса:\\n\", classification_report(y_test, forest_pred))\n",
    "\n",
    "# Оптимизация гиперпараметров с использованием кросс-валидации для решающего дерева\n",
    "param_grid_tree = {\n",
    "    'max_depth': [None, 10, 20, 30, 40, 50],\n",
    "    'min_samples_split': [2, 10, 20]\n",
    "}\n",
    "\n",
    "grid_tree = GridSearchCV(DecisionTreeClassifier(random_state=42), param_grid_tree, cv=5, scoring='accuracy')\n",
    "grid_tree.fit(X_train, y_train)\n",
    "\n",
    "print(\"Лучшие параметры для решающего дерева:\", grid_tree.best_params_)\n",
    "print(\"Лучший результат кросс-валидации для решающего дерева:\", grid_tree.best_score_)\n",
    "\n",
    "# Оптимизация гиперпараметров с использованием кросс-валидации для случайного леса\n",
    "param_grid_forest = {\n",
    "    'n_estimators': [100, 200, 300],\n",
    "    'max_depth': [None, 10, 20, 30, 40, 50],\n",
    "    'min_samples_split': [2, 10, 20]\n",
    "}\n",
    "\n",
    "grid_forest = GridSearchCV(RandomForestClassifier(random_state=42), param_grid_forest, cv=5, scoring='accuracy')\n",
    "grid_forest.fit(X_train, y_train)\n",
    "\n",
    "print(\"Лучшие параметры для случайного леса:\", grid_forest.best_params_)\n",
    "print(\"Лучший результат кросс-валидации для случайного леса:\", grid_forest.best_score_)\n",
    "\n",
    "# Обучение и оценка модели решающего дерева с оптимальными параметрами\n",
    "best_tree_model = grid_tree.best_estimator_\n",
    "best_tree_pred = best_tree_model.predict(X_test)\n",
    "\n",
    "best_tree_accuracy = accuracy_score(y_test, best_tree_pred)\n",
    "print(\"Точность решающего дерева с оптимальными параметрами:\", best_tree_accuracy)\n",
    "print(\"\\nConfusion Матрица решающего дерева с оптимальными параметрами:\\n\", confusion_matrix(y_test, best_tree_pred))\n",
    "print(\"\\nClassification Отчет решающего дерева с оптимальными параметрами:\\n\", classification_report(y_test, best_tree_pred))\n",
    "\n",
    "# Обучение и оценка модели случайного леса с оптимальными параметрами\n",
    "best_forest_model = grid_forest.best_estimator_\n",
    "best_forest_pred = best_forest_model.predict(X_test)\n",
    "\n",
    "best_forest_accuracy = accuracy_score(y_test, best_forest_pred)\n",
    "print(\"Точность случайного леса с оптимальными параметрами:\", best_forest_accuracy)\n",
    "print(\"\\nConfusion Матрица случайного леса с оптимальными параметрами:\\n\", confusion_matrix(y_test, best_forest_pred))\n",
    "print(\"\\nClassification Отчет случайного леса с оптимальными параметрами:\\n\", classification_report(y_test, best_forest_pred))\n"
   ]
  },
  {
   "cell_type": "markdown",
   "id": "542eebdd-6b08-4ab0-9ada-71420a937bce",
   "metadata": {},
   "source": [
    "# Загрузка датасета"
   ]
  },
  {
   "cell_type": "code",
   "execution_count": null,
   "id": "a314b7a0-8e4f-4946-9ed8-122806846d49",
   "metadata": {},
   "outputs": [],
   "source": [
    "dataset_train = pd.read_csv(\"train.csv\")"
   ]
  },
  {
   "cell_type": "markdown",
   "id": "eed0f168-0306-426f-acdb-b1cb2a20bfed",
   "metadata": {},
   "source": [
    "# Предварительная обработка данных"
   ]
  },
  {
   "cell_type": "code",
   "execution_count": 1,
   "id": "816ee1aa-df58-4061-b911-d5e01b7265f4",
   "metadata": {},
   "outputs": [
    {
     "ename": "NameError",
     "evalue": "name 'dataset_train' is not defined",
     "output_type": "error",
     "traceback": [
      "\u001b[1;31m---------------------------------------------------------------------------\u001b[0m",
      "\u001b[1;31mNameError\u001b[0m                                 Traceback (most recent call last)",
      "Cell \u001b[1;32mIn[1], line 1\u001b[0m\n\u001b[1;32m----> 1\u001b[0m dataset_train[\u001b[38;5;124m'\u001b[39m\u001b[38;5;124mAge\u001b[39m\u001b[38;5;124m'\u001b[39m]\u001b[38;5;241m.\u001b[39mfillna(dataset_train[\u001b[38;5;124m'\u001b[39m\u001b[38;5;124mAge\u001b[39m\u001b[38;5;124m'\u001b[39m]\u001b[38;5;241m.\u001b[39mmedian(), inplace\u001b[38;5;241m=\u001b[39m\u001b[38;5;28;01mTrue\u001b[39;00m)\n\u001b[0;32m      2\u001b[0m dataset_train[\u001b[38;5;124m'\u001b[39m\u001b[38;5;124mEmbarked\u001b[39m\u001b[38;5;124m'\u001b[39m]\u001b[38;5;241m.\u001b[39mfillna(dataset_train[\u001b[38;5;124m'\u001b[39m\u001b[38;5;124mEmbarked\u001b[39m\u001b[38;5;124m'\u001b[39m]\u001b[38;5;241m.\u001b[39mmode()[\u001b[38;5;241m0\u001b[39m], inplace\u001b[38;5;241m=\u001b[39m\u001b[38;5;28;01mTrue\u001b[39;00m)\n\u001b[0;32m      3\u001b[0m dataset_train[\u001b[38;5;124m'\u001b[39m\u001b[38;5;124mFare\u001b[39m\u001b[38;5;124m'\u001b[39m]\u001b[38;5;241m.\u001b[39mfillna(dataset_train[\u001b[38;5;124m'\u001b[39m\u001b[38;5;124mFare\u001b[39m\u001b[38;5;124m'\u001b[39m]\u001b[38;5;241m.\u001b[39mmedian(), inplace\u001b[38;5;241m=\u001b[39m\u001b[38;5;28;01mTrue\u001b[39;00m)\n",
      "\u001b[1;31mNameError\u001b[0m: name 'dataset_train' is not defined"
     ]
    }
   ],
   "source": [
    "dataset_train['Age'].fillna(dataset_train['Age'].median(), inplace=True)\n",
    "dataset_train['Embarked'].fillna(dataset_train['Embarked'].mode()[0], inplace=True)\n",
    "dataset_train['Fare'].fillna(dataset_train['Fare'].median(), inplace=True)"
   ]
  },
  {
   "cell_type": "markdown",
   "id": "b7df4e88-fba6-47b6-a96c-9dbd611de0c2",
   "metadata": {},
   "source": [
    "# Преобразование категориальных переменных в числовые"
   ]
  },
  {
   "cell_type": "code",
   "execution_count": 2,
   "id": "5cfc5494-4c73-4e23-bd1d-baf2dc8022fd",
   "metadata": {},
   "outputs": [
    {
     "ename": "NameError",
     "evalue": "name 'pd' is not defined",
     "output_type": "error",
     "traceback": [
      "\u001b[1;31m---------------------------------------------------------------------------\u001b[0m",
      "\u001b[1;31mNameError\u001b[0m                                 Traceback (most recent call last)",
      "Cell \u001b[1;32mIn[2], line 1\u001b[0m\n\u001b[1;32m----> 1\u001b[0m dataset_train \u001b[38;5;241m=\u001b[39m pd\u001b[38;5;241m.\u001b[39mget_dummies(dataset_train, columns\u001b[38;5;241m=\u001b[39m[\u001b[38;5;124m'\u001b[39m\u001b[38;5;124mSex\u001b[39m\u001b[38;5;124m'\u001b[39m, \u001b[38;5;124m'\u001b[39m\u001b[38;5;124mEmbarked\u001b[39m\u001b[38;5;124m'\u001b[39m], drop_first\u001b[38;5;241m=\u001b[39m\u001b[38;5;28;01mTrue\u001b[39;00m)\n",
      "\u001b[1;31mNameError\u001b[0m: name 'pd' is not defined"
     ]
    }
   ],
   "source": [
    "dataset_train = pd.get_dummies(dataset_train, columns=['Sex', 'Embarked'], drop_first=True)"
   ]
  },
  {
   "cell_type": "code",
   "execution_count": null,
   "id": "2d750e69-2e86-4384-bb75-bcdeccde2945",
   "metadata": {},
   "outputs": [],
   "source": []
  }
 ],
 "metadata": {
  "kernelspec": {
   "display_name": "Python 3 (ipykernel)",
   "language": "python",
   "name": "python3"
  },
  "language_info": {
   "codemirror_mode": {
    "name": "ipython",
    "version": 3
   },
   "file_extension": ".py",
   "mimetype": "text/x-python",
   "name": "python",
   "nbconvert_exporter": "python",
   "pygments_lexer": "ipython3",
   "version": "3.11.7"
  }
 },
 "nbformat": 4,
 "nbformat_minor": 5
}
