{
 "cells": [
  {
   "cell_type": "markdown",
   "id": "844cc078-dfa7-4f8e-8391-5169c4672d26",
   "metadata": {},
   "source": [
    "## Лабораторная работа №2"
   ]
  },
  {
   "cell_type": "markdown",
   "id": "e6a8d375-32dc-4a06-885a-aa1bdc680615",
   "metadata": {},
   "source": [
    "### Задание: Провести классификацию найденного датасета, методом машины опорных векторов."
   ]
  },
  {
   "cell_type": "code",
   "execution_count": 1,
   "id": "a286408e-b835-416b-bfe4-c32c0a1f83d2",
   "metadata": {},
   "outputs": [
    {
     "name": "stdout",
     "output_type": "stream",
     "text": [
      "Accuracy: 0.7821229050279329\n",
      "Confusion Matrix:\n",
      "[[88 17]\n",
      " [22 52]]\n",
      "Classification Report:\n",
      "              precision    recall  f1-score   support\n",
      "\n",
      "           0       0.80      0.84      0.82       105\n",
      "           1       0.75      0.70      0.73        74\n",
      "\n",
      "    accuracy                           0.78       179\n",
      "   macro avg       0.78      0.77      0.77       179\n",
      "weighted avg       0.78      0.78      0.78       179\n",
      "\n"
     ]
    }
   ],
   "source": [
    "import pandas as pd\n",
    "from sklearn.model_selection import train_test_split\n",
    "from sklearn.preprocessing import StandardScaler\n",
    "from sklearn.svm import SVC\n",
    "from sklearn.metrics import accuracy_score, classification_report, confusion_matrix\n",
    "\n",
    "# Загрузка данных\n",
    "dataset_train = pd.read_csv(\"train.csv\")\n",
    "\n",
    "# Предварительная обработка данных\n",
    "# Заполнение пропущенных значений\n",
    "dataset_train['Age'].fillna(dataset_train['Age'].median(), inplace=True)\n",
    "dataset_train['Embarked'].fillna(dataset_train['Embarked'].mode()[0], inplace=True)\n",
    "dataset_train['Fare'].fillna(dataset_train['Fare'].median(), inplace=True)\n",
    "\n",
    "# Кодирование категориальных переменных\n",
    "dataset_train = pd.get_dummies(dataset_train, columns=['Sex', 'Embarked'], drop_first=True)\n",
    "\n",
    "# Выбор целевой переменной и признаков\n",
    "X = dataset_train.drop(columns=['Survived', 'Name', 'Ticket', 'Cabin', 'PassengerId'])\n",
    "y = dataset_train['Survived']\n",
    "\n",
    "# Масштабирование признаков\n",
    "scaler = StandardScaler()\n",
    "X_scaled = scaler.fit_transform(X)\n",
    "\n",
    "# Разделение данных на обучающую и тестовую выборки\n",
    "X_train, X_test, y_train, y_test = train_test_split(X_scaled, y, test_size=0.2, random_state=42)\n",
    "\n",
    "# Инициализация и обучение модели SVM\n",
    "svm = SVC(kernel='linear', random_state=42)\n",
    "svm.fit(X_train, y_train)\n",
    "\n",
    "# Предсказание на тестовых данных\n",
    "y_pred = svm.predict(X_test)\n",
    "\n",
    "# Оценка модели\n",
    "accuracy = accuracy_score(y_test, y_pred)\n",
    "conf_matrix = confusion_matrix(y_test, y_pred)\n",
    "class_report = classification_report(y_test, y_pred)\n",
    "\n",
    "print(f'Accuracy: {accuracy}')\n",
    "print('Confusion Matrix:')\n",
    "print(conf_matrix)\n",
    "print('Classification Report:')\n",
    "print(class_report)\n"
   ]
  },
  {
   "cell_type": "code",
   "execution_count": null,
   "id": "3914d690-1c8b-44e2-b760-3a6114888029",
   "metadata": {},
   "outputs": [],
   "source": []
  }
 ],
 "metadata": {
  "kernelspec": {
   "display_name": "Python 3 (ipykernel)",
   "language": "python",
   "name": "python3"
  },
  "language_info": {
   "codemirror_mode": {
    "name": "ipython",
    "version": 3
   },
   "file_extension": ".py",
   "mimetype": "text/x-python",
   "name": "python",
   "nbconvert_exporter": "python",
   "pygments_lexer": "ipython3",
   "version": "3.11.7"
  }
 },
 "nbformat": 4,
 "nbformat_minor": 5
}
