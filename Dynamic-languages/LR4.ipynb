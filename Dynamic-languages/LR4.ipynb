{
 "cells": [
  {
   "cell_type": "markdown",
   "id": "5a8a17ec-5b39-473d-a648-927fa0055558",
   "metadata": {},
   "source": [
    "## Лабораторная работа №4"
   ]
  },
  {
   "cell_type": "markdown",
   "id": "282b3d75-c5c6-4775-af87-c4a4a9dbc0fc",
   "metadata": {},
   "source": [
    "### Задание: Провести классификацию найденного датасета, методами наивного Байеса."
   ]
  },
  {
   "cell_type": "code",
   "execution_count": 1,
   "id": "f11290bf-1233-4c70-874b-72488da572c9",
   "metadata": {},
   "outputs": [
    {
     "name": "stdout",
     "output_type": "stream",
     "text": [
      "Точность наивного Байеса: 0.770949720670391\n",
      "\n",
      "Confusion Матрица наивного Байеса:\n",
      " [[84 21]\n",
      " [20 54]]\n",
      "\n",
      "Classification Отчет наивного Байеса:\n",
      "               precision    recall  f1-score   support\n",
      "\n",
      "           0       0.81      0.80      0.80       105\n",
      "           1       0.72      0.73      0.72        74\n",
      "\n",
      "    accuracy                           0.77       179\n",
      "   macro avg       0.76      0.76      0.76       179\n",
      "weighted avg       0.77      0.77      0.77       179\n",
      "\n"
     ]
    }
   ],
   "source": [
    "import pandas as pd\n",
    "from sklearn.model_selection import train_test_split\n",
    "from sklearn.naive_bayes import GaussianNB\n",
    "from sklearn.metrics import accuracy_score, confusion_matrix, classification_report\n",
    "\n",
    "# Загрузка датасета\n",
    "dataset_train = pd.read_csv(\"train.csv\")\n",
    "\n",
    "# Предварительная обработка данных\n",
    "dataset_train['Age'].fillna(dataset_train['Age'].median(), inplace=True)\n",
    "dataset_train['Embarked'].fillna(dataset_train['Embarked'].mode()[0], inplace=True)\n",
    "dataset_train['Fare'].fillna(dataset_train['Fare'].median(), inplace=True)\n",
    "\n",
    "# Преобразование категориальных переменных в числовые\n",
    "dataset_train = pd.get_dummies(dataset_train, columns=['Sex', 'Embarked'], drop_first=True)\n",
    "\n",
    "# Выбор признаков и целевой переменной\n",
    "X = dataset_train[['Pclass', 'Age', 'SibSp', 'Parch', 'Fare', 'Sex_male', 'Embarked_Q', 'Embarked_S']]\n",
    "y = dataset_train['Survived']\n",
    "\n",
    "# Разделение данных на обучающую и тестовую выборки\n",
    "X_train, X_test, y_train, y_test = train_test_split(X, y, test_size=0.2, random_state=42)\n",
    "\n",
    "# Обучение модели наивного Байеса\n",
    "naive_bayes_model = GaussianNB()\n",
    "naive_bayes_model.fit(X_train, y_train)\n",
    "nb_pred = naive_bayes_model.predict(X_test)\n",
    "\n",
    "# Оценка производительности модели наивного Байеса\n",
    "nb_accuracy = accuracy_score(y_test, nb_pred)\n",
    "print(\"Точность наивного Байеса:\", nb_accuracy)\n",
    "print(\"\\nConfusion Матрица наивного Байеса:\\n\", confusion_matrix(y_test, nb_pred))\n",
    "print(\"\\nClassification Отчет наивного Байеса:\\n\", classification_report(y_test, nb_pred))\n"
   ]
  },
  {
   "cell_type": "code",
   "execution_count": null,
   "id": "b6202f57-6b73-4515-929b-d326efe57602",
   "metadata": {},
   "outputs": [],
   "source": []
  }
 ],
 "metadata": {
  "kernelspec": {
   "display_name": "Python 3 (ipykernel)",
   "language": "python",
   "name": "python3"
  },
  "language_info": {
   "codemirror_mode": {
    "name": "ipython",
    "version": 3
   },
   "file_extension": ".py",
   "mimetype": "text/x-python",
   "name": "python",
   "nbconvert_exporter": "python",
   "pygments_lexer": "ipython3",
   "version": "3.11.7"
  }
 },
 "nbformat": 4,
 "nbformat_minor": 5
}
