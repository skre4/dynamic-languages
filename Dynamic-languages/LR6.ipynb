{
 "cells": [
  {
   "cell_type": "markdown",
   "id": "51a1812c-e36b-41a2-a02e-98509944bc1c",
   "metadata": {},
   "source": [
    "## Лабораторная работа №6"
   ]
  },
  {
   "cell_type": "markdown",
   "id": "8c01f54c-2ebe-4ed6-b25a-a5e1fddf216d",
   "metadata": {},
   "source": [
    "### Задание: Провести классификацию найденного датасета, методами CatBoost."
   ]
  },
  {
   "cell_type": "code",
   "execution_count": 5,
   "id": "7cb34af9-3006-4248-81df-b5213b499174",
   "metadata": {},
   "outputs": [
    {
     "name": "stdout",
     "output_type": "stream",
     "text": [
      "Defaulting to user installation because normal site-packages is not writeable\n",
      "Requirement already satisfied: catboost in c:\\users\\pozit\\appdata\\roaming\\python\\python311\\site-packages (1.2.5)\n",
      "Requirement already satisfied: graphviz in c:\\users\\pozit\\appdata\\roaming\\python\\python311\\site-packages (from catboost) (0.20.3)\n",
      "Requirement already satisfied: matplotlib in c:\\programdata\\anaconda3\\lib\\site-packages (from catboost) (3.8.0)\n",
      "Requirement already satisfied: numpy>=1.16.0 in c:\\programdata\\anaconda3\\lib\\site-packages (from catboost) (1.26.4)\n",
      "Requirement already satisfied: pandas>=0.24 in c:\\programdata\\anaconda3\\lib\\site-packages (from catboost) (2.1.4)\n",
      "Requirement already satisfied: scipy in c:\\programdata\\anaconda3\\lib\\site-packages (from catboost) (1.11.4)\n",
      "Requirement already satisfied: plotly in c:\\programdata\\anaconda3\\lib\\site-packages (from catboost) (5.9.0)\n",
      "Requirement already satisfied: six in c:\\programdata\\anaconda3\\lib\\site-packages (from catboost) (1.16.0)\n",
      "Requirement already satisfied: python-dateutil>=2.8.2 in c:\\programdata\\anaconda3\\lib\\site-packages (from pandas>=0.24->catboost) (2.8.2)\n",
      "Requirement already satisfied: pytz>=2020.1 in c:\\programdata\\anaconda3\\lib\\site-packages (from pandas>=0.24->catboost) (2023.3.post1)\n",
      "Requirement already satisfied: tzdata>=2022.1 in c:\\programdata\\anaconda3\\lib\\site-packages (from pandas>=0.24->catboost) (2023.3)\n",
      "Requirement already satisfied: contourpy>=1.0.1 in c:\\programdata\\anaconda3\\lib\\site-packages (from matplotlib->catboost) (1.2.0)\n",
      "Requirement already satisfied: cycler>=0.10 in c:\\programdata\\anaconda3\\lib\\site-packages (from matplotlib->catboost) (0.11.0)\n",
      "Requirement already satisfied: fonttools>=4.22.0 in c:\\programdata\\anaconda3\\lib\\site-packages (from matplotlib->catboost) (4.25.0)\n",
      "Requirement already satisfied: kiwisolver>=1.0.1 in c:\\programdata\\anaconda3\\lib\\site-packages (from matplotlib->catboost) (1.4.4)\n",
      "Requirement already satisfied: packaging>=20.0 in c:\\programdata\\anaconda3\\lib\\site-packages (from matplotlib->catboost) (23.1)\n",
      "Requirement already satisfied: pillow>=6.2.0 in c:\\programdata\\anaconda3\\lib\\site-packages (from matplotlib->catboost) (10.2.0)\n",
      "Requirement already satisfied: pyparsing>=2.3.1 in c:\\programdata\\anaconda3\\lib\\site-packages (from matplotlib->catboost) (3.0.9)\n",
      "Requirement already satisfied: tenacity>=6.2.0 in c:\\programdata\\anaconda3\\lib\\site-packages (from plotly->catboost) (8.2.2)\n"
     ]
    }
   ],
   "source": [
    "!pip install catboost"
   ]
  },
  {
   "cell_type": "code",
   "execution_count": 1,
   "id": "a7a2ffa0-75a4-4744-a425-f326f1d49dc2",
   "metadata": {},
   "outputs": [
    {
     "name": "stdout",
     "output_type": "stream",
     "text": [
      "Точность CatBoost: 0.8268156424581006\n",
      "\n",
      "Confusion Матрица CatBoost:\n",
      " [[96  9]\n",
      " [22 52]]\n",
      "\n",
      "Classification Отчет CatBoost:\n",
      "               precision    recall  f1-score   support\n",
      "\n",
      "           0       0.81      0.91      0.86       105\n",
      "           1       0.85      0.70      0.77        74\n",
      "\n",
      "    accuracy                           0.83       179\n",
      "   macro avg       0.83      0.81      0.82       179\n",
      "weighted avg       0.83      0.83      0.82       179\n",
      "\n",
      "Лучшие параметры для CatBoost: {'depth': 6, 'iterations': 100, 'learning_rate': 0.2}\n",
      "Лучший результат кросс-валидации для CatBoost: 0.8370530877573131\n",
      "Точность CatBoost с оптимальными параметрами: 0.8100558659217877\n",
      "\n",
      "Confusion Матрица CatBoost с оптимальными параметрами:\n",
      " [[94 11]\n",
      " [23 51]]\n",
      "\n",
      "Classification Отчет CatBoost с оптимальными параметрами:\n",
      "               precision    recall  f1-score   support\n",
      "\n",
      "           0       0.80      0.90      0.85       105\n",
      "           1       0.82      0.69      0.75        74\n",
      "\n",
      "    accuracy                           0.81       179\n",
      "   macro avg       0.81      0.79      0.80       179\n",
      "weighted avg       0.81      0.81      0.81       179\n",
      "\n"
     ]
    }
   ],
   "source": [
    "import pandas as pd\n",
    "from catboost import CatBoostClassifier\n",
    "from sklearn.model_selection import train_test_split, GridSearchCV\n",
    "from sklearn.metrics import accuracy_score, confusion_matrix, classification_report\n",
    "\n",
    "# Загрузка датасета\n",
    "dataset_train = pd.read_csv(\"train.csv\")\n",
    "\n",
    "# Предварительная обработка данных\n",
    "dataset_train['Age'].fillna(dataset_train['Age'].median(), inplace=True)\n",
    "dataset_train['Embarked'].fillna(dataset_train['Embarked'].mode()[0], inplace=True)\n",
    "dataset_train['Fare'].fillna(dataset_train['Fare'].median(), inplace=True)\n",
    "\n",
    "# Преобразование категориальных переменных в числовые\n",
    "dataset_train = pd.get_dummies(dataset_train, columns=['Sex', 'Embarked'], drop_first=True)\n",
    "\n",
    "# Выбор признаков и целевой переменной\n",
    "X = dataset_train[['Pclass', 'Age', 'SibSp', 'Parch', 'Fare', 'Sex_male', 'Embarked_Q', 'Embarked_S']]\n",
    "y = dataset_train['Survived']\n",
    "\n",
    "# Разделение данных на обучающую и тестовую выборки\n",
    "X_train, X_test, y_train, y_test = train_test_split(X, y, test_size=0.2, random_state=42)\n",
    "\n",
    "# Обучение и оценка модели CatBoost\n",
    "catboost_model = CatBoostClassifier(random_seed=42, silent=True)\n",
    "catboost_model.fit(X_train, y_train)\n",
    "catboost_pred = catboost_model.predict(X_test)\n",
    "\n",
    "catboost_accuracy = accuracy_score(y_test, catboost_pred)\n",
    "print(\"Точность CatBoost:\", catboost_accuracy)\n",
    "print(\"\\nConfusion Матрица CatBoost:\\n\", confusion_matrix(y_test, catboost_pred))\n",
    "print(\"\\nClassification Отчет CatBoost:\\n\", classification_report(y_test, catboost_pred))\n",
    "\n",
    "# Оптимизация гиперпараметров с использованием кросс-валидации\n",
    "param_grid = {\n",
    "    'depth': [4, 6, 8, 10],\n",
    "    'learning_rate': [0.01, 0.1, 0.2],\n",
    "    'iterations': [100, 200, 300]\n",
    "}\n",
    "\n",
    "grid_search = GridSearchCV(estimator=CatBoostClassifier(random_seed=42, silent=True), param_grid=param_grid, cv=5, scoring='accuracy')\n",
    "grid_search.fit(X_train, y_train)\n",
    "\n",
    "print(\"Лучшие параметры для CatBoost:\", grid_search.best_params_)\n",
    "print(\"Лучший результат кросс-валидации для CatBoost:\", grid_search.best_score_)\n",
    "\n",
    "# Обучение и оценка модели CatBoost с оптимальными параметрами\n",
    "best_catboost_model = grid_search.best_estimator_\n",
    "best_catboost_pred = best_catboost_model.predict(X_test)\n",
    "\n",
    "best_catboost_accuracy = accuracy_score(y_test, best_catboost_pred)\n",
    "print(\"Точность CatBoost с оптимальными параметрами:\", best_catboost_accuracy)\n",
    "print(\"\\nConfusion Матрица CatBoost с оптимальными параметрами:\\n\", confusion_matrix(y_test, best_catboost_pred))\n",
    "print(\"\\nClassification Отчет CatBoost с оптимальными параметрами:\\n\", classification_report(y_test, best_catboost_pred))\n"
   ]
  },
  {
   "cell_type": "code",
   "execution_count": null,
   "id": "84c043e0-856e-46ba-83b8-6523d4e2fc4b",
   "metadata": {},
   "outputs": [],
   "source": []
  }
 ],
 "metadata": {
  "kernelspec": {
   "display_name": "Python 3 (ipykernel)",
   "language": "python",
   "name": "python3"
  },
  "language_info": {
   "codemirror_mode": {
    "name": "ipython",
    "version": 3
   },
   "file_extension": ".py",
   "mimetype": "text/x-python",
   "name": "python",
   "nbconvert_exporter": "python",
   "pygments_lexer": "ipython3",
   "version": "3.11.7"
  }
 },
 "nbformat": 4,
 "nbformat_minor": 5
}
